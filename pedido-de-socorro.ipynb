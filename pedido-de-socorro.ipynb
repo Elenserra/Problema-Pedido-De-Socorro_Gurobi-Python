{
 "cells": [
  {
   "cell_type": "code",
   "execution_count": 1,
   "id": "88dd693f",
   "metadata": {},
   "outputs": [],
   "source": [
    "#importa a biblioteca do Gurobi\n",
    "import gurobipy as gp"
   ]
  },
  {
   "cell_type": "code",
   "execution_count": 29,
   "id": "a96a9ca5",
   "metadata": {},
   "outputs": [],
   "source": [
    "#parâmetros do problema\n",
    "qntd_caixas = 4\n",
    "capacidade_helicoptero = 7\n",
    "\n",
    "#vetor com as caixas\n",
    "vet_caixas = ['alimento', 'água', 'munição', 'remédio/soro']\n",
    "\n",
    "#quantidade de caixas para a sobrevivência dos tripulantes\n",
    "caixa_sobrevivencia = [6, 4, 2, 2]\n",
    "\n",
    "#vetor com o valor de importância das caixas de emergência\n",
    "#assumindo que as caixas de munição e remedio são 2 vezes mais importantes do que as de água \n",
    "#e 4 vezes mais importantes do que as de alimento\n",
    "vet_pontos = [0.5, 1, 2, 2]\n",
    "\n",
    "#rótulo das caixas de emergência\n",
    "caixa = list()\n",
    "for i in range(qntd_caixas):\n",
    "    caixa.append(\"Caixa {}\".format(i+1))\n",
    "\n",
    "#dicionário das caixas de emergência\n",
    "dic_caixas = dict()\n",
    "for i in range(qntd_caixas):\n",
    "    rot_caixa = caixa[i]\n",
    "    dic_caixas[rot_caixa] = vet_caixas[i]\n",
    "\n",
    "#dicionário com a quantidade de caixas para a sobrevivência dos tripulantes\n",
    "dic_caixa_sobrev = dict()\n",
    "for i in range(qntd_caixas):\n",
    "    rot_caixa = caixa[i]\n",
    "    dic_caixa_sobrev[rot_caixa] = caixa_sobrevivencia[i]\n",
    "\n",
    "#dicionário com o valor de importância das caixas de emergência\n",
    "dic_caixas_pontos = dict()\n",
    "for i in range(qntd_caixas):\n",
    "    rot_caixa = caixa[i]\n",
    "    dic_caixas_pontos[rot_caixa] = vet_pontos[i]\n",
    "    "
   ]
  },
  {
   "cell_type": "code",
   "execution_count": 32,
   "id": "cfcb30ea",
   "metadata": {
    "scrolled": false
   },
   "outputs": [],
   "source": [
    "#criando o modelo\n",
    "m = gp.Model(\"Problema do Pedido de Socorro\")\n",
    "m.setParam(gp.GRB.Param.OutputFlag, 0)\n",
    "\n",
    "#variáveis de decisão\n",
    "x = m.addVars(caixa, vtype=gp.GRB.INTEGER)\n",
    "\n",
    "#restrições:\n",
    "#1)quanto a capacidade do helicoptéro \n",
    "r1 = m.addConstrs(gp.quicksum(x[i] for i in caixa) <= capacidade_helicoptero for i in caixa)\n",
    "\n",
    "#2)quanto a quantidade de caixas para a sobrevivência dos tripulantes\n",
    "r2 = m.addConstrs(x[i] <= dic_caixa_sobrev[i] for i in caixa )\n",
    "\n",
    "#função objetivo\n",
    "m.setObjective(gp.quicksum(x[i] * dic_caixas_pontos[i] for i in caixa),\n",
    "                sense=gp.GRB.MAXIMIZE\n",
    ")\n"
   ]
  },
  {
   "cell_type": "code",
   "execution_count": 33,
   "id": "06aa3b54",
   "metadata": {},
   "outputs": [
    {
     "name": "stdout",
     "output_type": "stream",
     "text": [
      "Função objetivo:  11.0 \n",
      "\n",
      "Será tranportada 0 de alimento\n",
      "Será tranportada 3 de água\n",
      "Será tranportada 2 de munição\n",
      "Será tranportada 2 de remédio/soro\n"
     ]
    }
   ],
   "source": [
    "#executa o modelo\n",
    "m.optimize()\n",
    "\n",
    "# valor da função objetivo\n",
    "print(\"Função objetivo: \", m.objVal, \"\\n\")\n",
    "\n",
    "#total de caixas a serem transportadas\n",
    "for i in caixa:\n",
    "    print(\"Será tranportada {} de {}\".format(round(x[i].X), dic_caixas[i]))"
   ]
  }
 ],
 "metadata": {
  "kernelspec": {
   "display_name": "Python 3 (ipykernel)",
   "language": "python",
   "name": "python3"
  },
  "language_info": {
   "codemirror_mode": {
    "name": "ipython",
    "version": 3
   },
   "file_extension": ".py",
   "mimetype": "text/x-python",
   "name": "python",
   "nbconvert_exporter": "python",
   "pygments_lexer": "ipython3",
   "version": "3.10.9"
  }
 },
 "nbformat": 4,
 "nbformat_minor": 5
}
